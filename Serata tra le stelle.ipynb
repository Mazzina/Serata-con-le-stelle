{
 "cells": [
  {
   "attachments": {},
   "cell_type": "markdown",
   "metadata": {},
   "source": [
    "\n",
    "<h1 style=\"text-align: center;\">\n",
    "    Una serata con le stelle\n",
    "</h1>\n",
    "<p style=\"text-align: center;\">\n",
    "        Dott. Ing. Youri Mazzina - Astrofilo\n",
    "</p> \n",
    "<p style=\"text-align: center;\">\n",
    "    <img src=\"christ_in_beginning_was_word_timothy.jpeg\"/><br><br>   \n",
    "    \"In the Beginning was the Word\" - by Eva Koleva Timothy\n",
    "</p> \n"
   ]
  },
  {
   "attachments": {},
   "cell_type": "markdown",
   "metadata": {},
   "source": [
    "<table style=\"border-collapse: collapse; border: none; text-align: left; margin-left:auto; margin-right:auto;\">\n",
    "    <tr style=\"border: none;\">\n",
    "        <td style=\"border: none;\">\n",
    "            <img src=\"jesus christ.jpg\"/><br><br>\n",
    "        </td>\n",
    "         <td style=\"border: none;\">\n",
    "            <h2>\n",
    "                Mose 1:3-4, 37-39\n",
    "            </h2>\n",
    "            <p>\n",
    "                3 E Dio parlò a Mosè, dicendo: Ecco, Io sono il Signore Dio Onnipotente, e Infinito è il mio nome; poiché sono senza principio di giorni o fine d’anni, e non è ciò infinito?<br>\n",
    "                4 Ed ecco, tu sei mio figlio; guarda dunque, e ti mostrerò le opere delle mie mani, ma non tutte, poiché le mie opere sono senza fine, e anche le mie parole, poiché non cessano mai.<br>\n",
    "                37 E il Signore Iddio parlò a Mosè, dicendo: I cieli sono molti e non possono essere contati dall’uomo; ma sono contati per me, poiché sono miei.<br>\n",
    "                38 E quando una terra passerà, con i suoi cieli, così pure ne verrà un’altra; e non v’è fine alle mie opere, né alle mie parole.<br>\n",
    "                <b>39 Poiché ecco, questa è la mia opera e la mia gloria: fare avverare l’immortalità e la vita eterna dell’uomo.<b><br>\n",
    "            </P>\n",
    "        </td>\n",
    "    </tr>\n",
    "    \n",
    "</table>\n"
   ]
  },
  {
   "attachments": {},
   "cell_type": "markdown",
   "metadata": {},
   "source": [
    "<h2> Obiettivo di questa serata: </h2>\n",
    "<ul>\n",
    "  <li>Conoscere l'astronomia</li>\n",
    "  <li>Vedere con propri occhi alcune delle creazione del Signore, oltre a questa terra</li>\n",
    "  <ul>\n",
    "    <li>Pianeti del nostro sistema solare</li>\n",
    "    <li>Altre galassie</li>\n",
    "    <li>Nebulosi</li>\n",
    "  </ul> \n",
    "  <li>Cercare Gesù Cristo in ogni cosa</li>\n",
    "</ul> \n"
   ]
  },
  {
   "attachments": {},
   "cell_type": "markdown",
   "metadata": {},
   "source": [
    "<h2> Premessa </h2>\n",
    "<b> Nulla di cio che dirò oggi è necessariamente vero e definitivo! La scienze è ancora alla ricerca della verità ed io sono solo un osservatore. </b>"
   ]
  },
  {
   "attachments": {},
   "cell_type": "markdown",
   "metadata": {},
   "source": [
    "<h2> Storia e scienze, alla ricerca della verità</h2>\n",
    "\n",
    "<table style=\"border-collapse: collapse; border: none;\">\n",
    "    <tr style=\"border: none, text-align: center;\">\n",
    "        <td style=\"border: none; text-align: center;\">\n",
    "            Calendadario e osservatorio, Inghilterra 1550 a.C. <br> <br>\n",
    "            <img src=\"stonehenge.jpg\"/>\n",
    "        </td>\n",
    "         <td style=\"border: none; text-align: center;\">\n",
    "            Disco di Nebra, Germania 1600 a.C. <br> <br>\n",
    "            <img src=\"nebra-sky-disk.jpg\"/> \n",
    "        </td>\n",
    "    </tr>\n",
    "    <tr style=\"border: none, text-align: center;\">\n",
    "        <td style=\"border: none; text-align: center;\">\n",
    "            Osservatorio Maia a Chichen Itza, attuale Messico circa 800 a.C <br> <br>\n",
    "            <img src=\"mayan-observatory.jpg\"/>\n",
    "        </td>\n",
    "         <td style=\"border: none; text-align: center;\">\n",
    "            Artefatto polinesiano <br> <br>\n",
    "            <img src=\"Polynesians.jpg\"/>\n",
    "        </td>\n",
    "    </tr>\n",
    "</table>\n"
   ]
  },
  {
   "attachments": {},
   "cell_type": "markdown",
   "metadata": {},
   "source": [
    "<h3> Greci: </h3>\n",
    "<ul>\n",
    "  <li>Platone (circa 400 a.C)</li>\n",
    "  <li>Aristotele (circa 400 a.C) - geocentrico, la terra al centro dell'universo</li>\n",
    "  <li>Eratòstene di Cirene (circa 240 a.C) - misura quasi perfetta della terra sferica</li>\n",
    "</ul> "
   ]
  },
  {
   "attachments": {},
   "cell_type": "markdown",
   "metadata": {},
   "source": [
    "\n",
    "<table style=\"border-collapse: collapse; border: none;\">\n",
    "    <tr style=\"border: none, text-align: center;\">\n",
    "        <td style=\"border: none; text-align: center;\">\n",
    "            <img src=\"10hours.png\"/>\n",
    "        <td style=\"border: none; text-align: center;\">            \n",
    "            <img src=\"ciclo_marte.jpg\"/>\n",
    "    </tr>\n",
    "</table>"
   ]
  },
  {
   "attachments": {},
   "cell_type": "markdown",
   "metadata": {},
   "source": [
    "<h3>Verso la verità</h3>\n",
    "<ul>\n",
    "  <li>Copernico (1473 - 1543 d.C) - eliocentrico, il sole al centro dell'universo</li>\n",
    "  <li>Keplero (1571 - 1630 d.C) - leggi che regolano i movimenti dei pianeti</li>\n",
    "  <li>Galileo (1564 - 1642 d.C) - metodo scientifico, basi della cinematica della fisica classica e inventore del telescopio</li>\n",
    "  <li>Sir. Isaac Newton (1642 - 1726 d.C) - legge gravitazionale universale, analisi matematica, telescopio rifrattore</li>\n",
    "  <li>Albert Einstein (1879 - 1955 d.C) - teoria della relatività, fisica moderna</li>\n",
    "</ul>\n",
    "\n"
   ]
  },
  {
   "attachments": {},
   "cell_type": "markdown",
   "metadata": {},
   "source": [
    "<h1>Pianeti del nostro sistema solare</h1>\n",
    "\n",
    "<p style=\"text-align: center;\">\n",
    "    <img src=\"pianeti.jpg\"/>\n",
    "</p>\n",
    "\n",
    "<table style=\"border-collapse: collapse; border: none;\">\n",
    "    <tr style=\"border: none, text-align: center;\">\n",
    "        <td style=\"border: none; text-align: center;\">\n",
    "            <img src=\"marte.png\"/>\n",
    "        </td>\n",
    "         <td style=\"border: none; text-align: center;\">\n",
    "            <h2>Marte, il pianeta rosso</h2>\n",
    "            <br>\n",
    "            distanza: 1,74 UA    \n",
    "        </td>\n",
    "    </tr>\n",
    "</table>"
   ]
  },
  {
   "cell_type": "code",
   "execution_count": 14,
   "metadata": {},
   "outputs": [
    {
     "name": "stdout",
     "output_type": "stream",
     "text": [
      "260300295.03017998  Km\n"
     ]
    }
   ],
   "source": [
    "def ua2km(UA):\n",
    "    return UA * 149597870.707\n",
    "\n",
    "# Marte 1,74 UA\n",
    "print(ua2km(1.74), \" Km\")"
   ]
  },
  {
   "attachments": {},
   "cell_type": "markdown",
   "metadata": {},
   "source": [
    "<table style=\"border-collapse: collapse; border: none;\">\n",
    "    <tr style=\"border: none, text-align: center;\">\n",
    "        <td style=\"border: none; text-align: center;\">\n",
    "            <img src=\"giove.jpg\"/>\n",
    "        </td>\n",
    "         <td style=\"border: none; text-align: center;\">\n",
    "            <h2>Giove il gigante</h2>\n",
    "            <br>\n",
    "            distanza: 5,92 UA    \n",
    "        </td>\n",
    "    </tr>\n",
    "</table>"
   ]
  },
  {
   "cell_type": "code",
   "execution_count": 15,
   "metadata": {},
   "outputs": [
    {
     "name": "stdout",
     "output_type": "stream",
     "text": [
      "885619394.5854399  Km\n"
     ]
    }
   ],
   "source": [
    "# Giove 5,92 UA\n",
    "print(ua2km(5.92), \" Km\")"
   ]
  },
  {
   "attachments": {},
   "cell_type": "markdown",
   "metadata": {},
   "source": [
    "<table style=\"border-collapse: collapse; border: none;\">\n",
    "    <tr style=\"border: none, text-align: center;\">\n",
    "        <td style=\"border: none; text-align: center;\">\n",
    "            <img src=\"saturno.jfif\"/>\n",
    "        </td>\n",
    "         <td style=\"border: none; text-align: center;\">\n",
    "            <h2>Saturno e i suoi anelli</h2>\n",
    "            <br>\n",
    "            distanza: 10,19 UA    \n",
    "        </td>\n",
    "    </tr>\n",
    "</table>"
   ]
  },
  {
   "cell_type": "code",
   "execution_count": 6,
   "metadata": {},
   "outputs": [
    {
     "name": "stdout",
     "output_type": "stream",
     "text": [
      "1524402302.5043297  Km\n"
     ]
    }
   ],
   "source": [
    "# Saturno 10,19 UA\n",
    "print(ua2km(10.19), \" Km\")"
   ]
  },
  {
   "attachments": {},
   "cell_type": "markdown",
   "metadata": {},
   "source": [
    "<h1>Il nostro Sole</h1>\n",
    "\n",
    "<p style=\"text-align: center;\">\n",
    "    <img src=\"sole.jpg\"/>\n",
    "</p>"
   ]
  },
  {
   "cell_type": "code",
   "execution_count": 16,
   "metadata": {},
   "outputs": [
    {
     "name": "stdout",
     "output_type": "stream",
     "text": [
      "149597870.707  Km\n"
     ]
    }
   ],
   "source": [
    "# Sole 1 UA\n",
    "print(ua2km(1), \" Km\")"
   ]
  },
  {
   "cell_type": "code",
   "execution_count": 17,
   "metadata": {},
   "outputs": [
    {
     "name": "stdout",
     "output_type": "stream",
     "text": [
      "499.0047838595059  secondi\n",
      "8.31674639765843  minuti\n"
     ]
    }
   ],
   "source": [
    "# Velocità della luce è di 299792458 m/s, circa 300000 Km/s\n",
    "def get_tempo_luce(UA):\n",
    "    return ua2km(UA) * 1000  / 299792458\n",
    "\n",
    "# Tempo necessario per la luce del sole per arrivare sulla terra:\n",
    "print(get_tempo_luce(1), \" secondi\")\n",
    "print(get_tempo_luce(1)/60, \" minuti\")"
   ]
  },
  {
   "attachments": {},
   "cell_type": "markdown",
   "metadata": {},
   "source": [
    "<h1>Tempo necessario per la luce del sole per arrivare sugli altri pianeti?</h1>"
   ]
  },
  {
   "cell_type": "code",
   "execution_count": 13,
   "metadata": {},
   "outputs": [
    {
     "name": "stdout",
     "output_type": "stream",
     "text": [
      "Marte:  14.47113873192567  minuti\n",
      "Giove:  49.235138674137914  minuti\n",
      "Saturno:  84.7476457921394  minuti\n",
      "Plutone:  287.50992296705203  minuti\n"
     ]
    }
   ],
   "source": [
    "print(\"Marte: \", get_tempo_luce(1.74)/60, \" minuti\")\n",
    "print(\"Giove: \", get_tempo_luce(5.92)/60, \" minuti\")\n",
    "print(\"Saturno: \", get_tempo_luce(10.19)/60, \" minuti\")\n",
    "print(\"Plutone: \", get_tempo_luce(34.57)/60, \" minuti\")\n"
   ]
  },
  {
   "attachments": {},
   "cell_type": "markdown",
   "metadata": {},
   "source": [
    "<h1>E per arrivare ad un'altro sole più vicino a noi?</h1>\n",
    "<h2>Proxima Centauri è a circa 4.24 [AL] (Anni Luci)</h2>"
   ]
  },
  {
   "cell_type": "code",
   "execution_count": 32,
   "metadata": {},
   "outputs": [
    {
     "name": "stdout",
     "output_type": "stream",
     "text": [
      "267958.633514116  UA\n",
      "Che corrispondono a  2228544.0  minuti\n",
      "Infatti 365 giorni x 24 ore x 60 minuti x 4.24 [AL] =  2228544.0  minuti\n"
     ]
    }
   ],
   "source": [
    "def AL2UA(AL):\n",
    "    return (AL*365*24*60*60) / get_tempo_luce(1)\n",
    "\n",
    "print(AL2UA(4.24), \" UA\")\n",
    "print(\"Che corrispondono a \", get_tempo_luce(AL2UA(4.24))/60, \" minuti\")\n",
    "print(\"Infatti 365 giorni x 24 ore x 60 minuti x 4.24 [AL] = \", 365*24*60 * 4.24, \" minuti\")"
   ]
  },
  {
   "attachments": {},
   "cell_type": "markdown",
   "metadata": {},
   "source": [
    "<h1>La nostra galassia - la via lattea</h1>\n",
    "<p> "
   ]
  },
  {
   "cell_type": "markdown",
   "metadata": {},
   "source": []
  },
  {
   "cell_type": "markdown",
   "metadata": {},
   "source": [
    "The positions of stars, galaxies and other astronomical objects are usually recorded in either equatorial or Galactic coordinates.\n",
    "Equatorial coordinates are fixed relative to the celestial sphere, so the positions are independent of when or where the observations took place. They are defined relative to the celestial equator (which is in the same plane as the Earth's equator) and the ecliptic (the path the sun traces throughout the year).\n",
    "A point on the celestial sphere is given by two coordinates:\n",
    "•\tRight ascension: the angle from the vernal equinox to the point, going east along the celestial equator;\n",
    "•\tDeclination: the angle from the celestial equator to the point, going north (negative values indicate going south).\n",
    "The vernal equinox is the intersection of the celestial equator and the ecliptic where the ecliptic rises above the celestial equator going further east.\n",
    "The coordinates of stars in the sky will change slightly over the years due to the slow wobble of Earth's axis. Therefore, it is important to specify the epoch or time period which we are using as a reference for the celestial coordinate system.\n"
   ]
  },
  {
   "attachments": {},
   "cell_type": "markdown",
   "metadata": {},
   "source": [
    "<center>\n",
    "    <img src=\"coordinates.gif\"/>\n",
    "</center>"
   ]
  },
  {
   "cell_type": "markdown",
   "metadata": {},
   "source": [
    "Right ascension is often given in hours-minutes-seconds (HMS) notation, because it was convenient to calculate when a star would appear over the horizon. A full circle in HMS notation is 24 hours, which means 1 hour in HMS notation is equal to 15 degrees.\n",
    "Each hour is split into 60 minutes and each minute into 60 seconds.\n",
    "\n",
    "You can convert 23 hours, 12 minutes and 6 seconds (written as 23:12:06 or 23h12m06s) to degrees like this: "
   ]
  },
  {
   "cell_type": "code",
   "execution_count": 14,
   "metadata": {},
   "outputs": [
    {
     "name": "stdout",
     "output_type": "stream",
     "text": [
      "348.025\n"
     ]
    }
   ],
   "source": [
    "print(15*(23 + 12/60 + 6/(60*60)))"
   ]
  },
  {
   "cell_type": "markdown",
   "metadata": {},
   "source": [
    "Declination, on the other hand, is traditionally recorded in degrees-minutes-seconds (DMS) notation. A full circle is 360 degrees, each degree has 60 arcminutes and each arcminute has 60 arcseconds.\n",
    "For example: 73 degrees, 21 arcminutes and 14.4 arcseconds (written 73:21:14.4 or 73° 21' 14.4\" or 73d21m14.4s) can be converted to decimal degrees like this:\n"
   ]
  },
  {
   "cell_type": "code",
   "execution_count": 15,
   "metadata": {
    "scrolled": true
   },
   "outputs": [
    {
     "name": "stdout",
     "output_type": "stream",
     "text": [
      "73.354\n"
     ]
    }
   ],
   "source": [
    "print(73 + 21/60 + 14.4/(60*60))"
   ]
  },
  {
   "cell_type": "markdown",
   "metadata": {},
   "source": [
    "With negative angles like -5° 31' 12\" the negation applies to the whole angle, including arcminutes and arcseconds:"
   ]
  },
  {
   "cell_type": "code",
   "execution_count": 16,
   "metadata": {},
   "outputs": [
    {
     "name": "stdout",
     "output_type": "stream",
     "text": [
      "-5.52\n"
     ]
    }
   ],
   "source": [
    "print(-1*(5 + 31/60 + 12/(60*60)))\n"
   ]
  },
  {
   "cell_type": "markdown",
   "metadata": {},
   "source": [
    "The arcminutes and arcseconds in DMS are not the same as the minutes and seconds in HMS! A minute in HMS is equal to 15 arcminutes in DMS and a second is equal to 15 arcseconds.\n",
    "\n"
   ]
  },
  {
   "cell_type": "code",
   "execution_count": 17,
   "metadata": {},
   "outputs": [],
   "source": [
    "def hms2dec(hours, minutes, seconds):\n",
    "  return 15 * (hours + minutes/60 + seconds / 3600)\n",
    "\n",
    "def dms2dec(degree, arcminutes, arcseconds):\n",
    "  if (degree > 0):\n",
    "    return degree + arcminutes / 60 + arcseconds / 3600\n",
    "  else:\n",
    "    return -1 * (-degree + arcminutes / 60 + arcseconds / 3600)\n"
   ]
  },
  {
   "cell_type": "code",
   "execution_count": 18,
   "metadata": {},
   "outputs": [
    {
     "data": {
      "text/plain": [
       "348.025"
      ]
     },
     "execution_count": 18,
     "metadata": {},
     "output_type": "execute_result"
    }
   ],
   "source": [
    "hms2dec(23, 12, 6)"
   ]
  },
  {
   "cell_type": "code",
   "execution_count": 19,
   "metadata": {
    "scrolled": true
   },
   "outputs": [
    {
     "data": {
      "text/plain": [
       "22.955"
      ]
     },
     "execution_count": 19,
     "metadata": {},
     "output_type": "execute_result"
    }
   ],
   "source": [
    "dms2dec(22, 57, 18)"
   ]
  },
  {
   "cell_type": "markdown",
   "metadata": {},
   "source": [
    "To crossmatch two catalogues we need to compare the angular distance between objects on the celestial sphere.\n",
    "People loosely call this a \"distance\", but technically its an angular distance: the projected angle between objects as seen from Earth.\n",
    "If we have an object on the celestial sphere with right ascension and declination (α1,δ1), then the angular distance to another object with coordinates (α2,δ2) is:\n",
    "\n",
    "d = 2*archsin(sqrt[ ])\n",
    "d=2arcsin√sin2|δ1−δ2|2+cosδ1cosδ2sin2|α1−α2|2\n",
    "\n",
    "Angular distances have the same units as angles (degrees). There are other equations for calculating the angular distance but this one, called the haversine formula, is good at avoiding floating point errors when the two points are close together.\n",
    "We'll go through an example of how to implement the formula you saw on the previous slide using NumPy's trigonometric functions. Please keep in mind that NumPy trigonometric functions only take radians as input so you need to convert your coordinates when needed.\n",
    "First, let's break down the formula into smaller parts:\n",
    "d=2arcsin√a+b\n",
    "a=sin2|δ1−δ2|2\n",
    "b=cosδ1cosδ2sin2|α1−α2|2\n",
    "We can calculate b with NumPy's sin, cos and abs functions:\n",
    "b = np.cos(d1)*np.cos(d2)*np.sin(np.abs(r1 - r2)/2)**2\n",
    "Here, r1 and d1 are the coordinates of the first point (α1,δ1) and r2 and d2 similarly correspond to α2 and δ2.\n",
    "a can be calculated in a similar way using just sin and abs. Once we have both a and b we can use numpy.arcsin to calculate d:\n",
    "\n"
   ]
  },
  {
   "cell_type": "markdown",
   "metadata": {},
   "source": []
  },
  {
   "cell_type": "code",
   "execution_count": null,
   "metadata": {},
   "outputs": [],
   "source": []
  }
 ],
 "metadata": {
  "kernelspec": {
   "display_name": "Python 3.8.3 ('base')",
   "language": "python",
   "name": "python3"
  },
  "language_info": {
   "codemirror_mode": {
    "name": "ipython",
    "version": 3
   },
   "file_extension": ".py",
   "mimetype": "text/x-python",
   "name": "python",
   "nbconvert_exporter": "python",
   "pygments_lexer": "ipython3",
   "version": "3.8.3"
  },
  "vscode": {
   "interpreter": {
    "hash": "e385e207261983265d893feb815477dc9dd95c1311d5902dbfc48bae73ba3e1a"
   }
  }
 },
 "nbformat": 4,
 "nbformat_minor": 2
}
